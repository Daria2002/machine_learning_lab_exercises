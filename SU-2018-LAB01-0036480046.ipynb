{
 "cells": [
  {
   "cell_type": "markdown",
   "metadata": {},
   "source": [
    "Sveučilište u Zagrebu  \n",
    "Fakultet elektrotehnike i računarstva  \n",
    "  \n",
    "## Strojno učenje 2018/2019  \n",
    "http://www.fer.unizg.hr/predmet/su"
   ]
  },
  {
   "cell_type": "markdown",
   "metadata": {},
   "source": [
    "------------------------------\n",
    "\n",
    "### Laboratorijska vježba 1: Regresija\n",
    "\n",
    "*Verzija: 1.1  \n",
    "Zadnji put ažurirano: 12. listopada 2018.*\n",
    "\n",
    "(c) 2015-2018 Jan Šnajder, Domagoj Alagić, Mladen Karan \n",
    "\n",
    "Objavljeno: **12. listopada 2018.**  \n",
    "Rok za predaju: **22. listopada 2018. u 07:00h**\n",
    "\n",
    "------------------------------"
   ]
  },
  {
   "cell_type": "markdown",
   "metadata": {},
   "source": [
    "### Upute\n",
    "\n",
    "Prva laboratorijska vježba sastoji se od osam zadataka. U nastavku slijedite upute navedene u ćelijama s tekstom. Rješavanje vježbe svodi se na **dopunjavanje ove bilježnice**: umetanja ćelije ili više njih **ispod** teksta zadatka, pisanja odgovarajućeg kôda te evaluiranja ćelija. \n",
    "\n",
    "Osigurajte da u potpunosti **razumijete** kôd koji ste napisali. Kod predaje vježbe, morate biti u stanju na zahtjev asistenta (ili demonstratora) preinačiti i ponovno evaluirati Vaš kôd. Nadalje, morate razumjeti teorijske osnove onoga što radite, u okvirima onoga što smo obradili na predavanju. Ispod nekih zadataka možete naći i pitanja koja služe kao smjernice za bolje razumijevanje gradiva (**nemojte pisati** odgovore na pitanja u bilježnicu). Stoga se nemojte ograničiti samo na to da riješite zadatak, nego slobodno eksperimentirajte. To upravo i jest svrha ovih vježbi.\n",
    "\n",
    "Vježbe trebate raditi **samostalno**. Možete se konzultirati s drugima o načelnom načinu rješavanja, ali u konačnici morate sami odraditi vježbu. U protivnome vježba nema smisla."
   ]
  },
  {
   "cell_type": "code",
   "execution_count": 1,
   "metadata": {},
   "outputs": [
    {
     "name": "stdout",
     "output_type": "stream",
     "text": [
      "Populating the interactive namespace from numpy and matplotlib\n"
     ]
    }
   ],
   "source": [
    "# Učitaj osnovne biblioteke..\n",
    "import numpy as np\n",
    "import sklearn\n",
    "import matplotlib.pyplot as plt\n",
    "%pylab inline"
   ]
  },
  {
   "cell_type": "markdown",
   "metadata": {},
   "source": [
    "## Zadatci"
   ]
  },
  {
   "cell_type": "markdown",
   "metadata": {},
   "source": [
    "### 1. Jednostavna regresija"
   ]
  },
  {
   "cell_type": "markdown",
   "metadata": {},
   "source": [
    "Zadan je skup primjera $\\mathcal{D}=\\{(x^{(i)},y^{(i)})\\}_{i=1}^4 = \\{(0,4),(1,1),(2,2),(4,5)\\}$. Primjere predstavite matrixom $\\mathbf{X}$ dimenzija $N\\times n$ (u ovom slučaju $4\\times 1$) i vektorom oznaka $\\textbf{y}$, dimenzija $N\\times 1$ (u ovom slučaju $4\\times 1$), na sljedeći način:\n"
   ]
  },
  {
   "cell_type": "code",
   "execution_count": 2,
   "metadata": {},
   "outputs": [
    {
     "name": "stdout",
     "output_type": "stream",
     "text": [
      "[[0]\n",
      " [1]\n",
      " [2]\n",
      " [4]]\n",
      "[4 1 2 5]\n",
      "w1 [[ 0.29545455]\n",
      " [-0.21022727]\n",
      " [ 0.02840909]]\n",
      "w2 [[ 0.27272727]\n",
      " [ 0.11363636]\n",
      " [ 0.04545455]]\n",
      "w3 [[ 0.43181818]\n",
      " [ 0.09659091]\n",
      " [-0.07386364]]\n",
      "h1 [[ 0.06818182]\n",
      " [-0.07954545]\n",
      " [ 0.38068182]\n",
      " [ 0.55113636]\n",
      " [ 0.67613636]\n",
      " [ 0.40340909]]\n"
     ]
    }
   ],
   "source": [
    "X = np.array([[0],[1],[2],[4]])\n",
    "y = np.array([4,1,2,5])\n",
    "print(X)\n",
    "print(y)\n",
    "\n",
    "xtilda = [[1,-3,1],[1,-3,3],[1,1,2],[1,2,1],[1,1,-2],[1,2,3]]\n",
    "y1=[[1],[1],[0],[0],[0],[0]]\n",
    "y2=[[0],[0],[1],[1],[0],[0]]\n",
    "y3=[[0],[0],[0],[0],[1],[1]]\n",
    "w1=dot(pinv(xtilda), y1)\n",
    "w2=dot(pinv(xtilda), y2)\n",
    "w3=dot(pinv(xtilda), y3)\n",
    "print('w1', w1)\n",
    "print('w2', w2)\n",
    "print('w3', w3)\n",
    "print('h1', dot( xtilda,w3))"
   ]
  },
  {
   "cell_type": "markdown",
   "metadata": {},
   "source": [
    "#### (a)\n",
    "\n",
    "Proučite funkciju [`PolynomialFeatures`](http://scikit-learn.org/stable/modules/generated/sklearn.preprocessing.PolynomialFeatures.html) iz biblioteke `sklearn` i upotrijebite je za generiranje matrice dizajna $\\mathbf{\\Phi}$ koja ne koristi preslikavanje u prostor više dimenzije (samo će svakom primjeru biti dodane *dummy* jedinice; $m=n+1$).\n"
   ]
  },
  {
   "cell_type": "code",
   "execution_count": 3,
   "metadata": {},
   "outputs": [
    {
     "name": "stdout",
     "output_type": "stream",
     "text": [
      "[[ 1.  0.]\n",
      " [ 1.  1.]\n",
      " [ 1.  2.]\n",
      " [ 1.  4.]]\n"
     ]
    }
   ],
   "source": [
    "from sklearn.preprocessing import PolynomialFeatures\n",
    "poly = PolynomialFeatures(degree = 1)\n",
    "theta = poly.fit_transform(X)\n",
    "print(theta)"
   ]
  },
  {
   "cell_type": "markdown",
   "metadata": {},
   "source": [
    "#### (b)"
   ]
  },
  {
   "cell_type": "markdown",
   "metadata": {},
   "source": [
    "Upoznajte se s modulom [`linalg`](http://docs.scipy.org/doc/numpy/reference/routines.linalg.html). Izračunajte težine $\\mathbf{w}$ modela linearne regresije kao $\\mathbf{w}=(\\mathbf{\\Phi}^\\intercal\\mathbf{\\Phi})^{-1}\\mathbf{\\Phi}^\\intercal\\mathbf{y}$. Zatim se uvjerite da isti rezultat možete dobiti izračunom pseudoinverza $\\mathbf{\\Phi}^+$ matrice dizajna, tj. $\\mathbf{w}=\\mathbf{\\Phi}^+\\mathbf{y}$, korištenjem funkcije [`pinv`](http://docs.scipy.org/doc/numpy/reference/generated/numpy.linalg.pinv.html)."
   ]
  },
  {
   "cell_type": "code",
   "execution_count": 4,
   "metadata": {
    "collapsed": true
   },
   "outputs": [],
   "source": [
    "from numpy import linalg"
   ]
  },
  {
   "cell_type": "code",
   "execution_count": 5,
   "metadata": {},
   "outputs": [
    {
     "name": "stdout",
     "output_type": "stream",
     "text": [
      "(4, 2)\n",
      "(4,)\n",
      "[ 2.2         0.45714286]\n",
      "[ 2.2         0.45714286]\n"
     ]
    }
   ],
   "source": [
    "print(np.shape(theta))\n",
    "print(np.shape(y))\n",
    "w = dot(dot(inv(dot(transpose(theta),theta)),transpose(theta)),y)\n",
    "print(w)\n",
    "w_izracunat_pomocu_pseudoinverza = dot(pinv(theta), y)\n",
    "print(w_izracunat_pomocu_pseudoinverza)"
   ]
  },
  {
   "cell_type": "markdown",
   "metadata": {},
   "source": [
    "Radi jasnoće, u nastavku je vektor $\\mathbf{x}$ s dodanom *dummy* jedinicom $x_0=1$ označen kao $\\tilde{\\mathbf{x}}$."
   ]
  },
  {
   "cell_type": "markdown",
   "metadata": {},
   "source": [
    "#### (c)"
   ]
  },
  {
   "cell_type": "markdown",
   "metadata": {},
   "source": [
    "Prikažite primjere iz $\\mathcal{D}$ i funkciju $h(\\tilde{\\mathbf{x}})=\\mathbf{w}^\\intercal\\tilde{\\mathbf{x}}$. Izračunajte pogrešku učenja prema izrazu $E(h|\\mathcal{D})=\\frac{1}{2}\\sum_{i=1}^N(\\tilde{\\mathbf{y}}^{(i)} - h(\\tilde{\\mathbf{x}}))^2$. Možete koristiti funkciju srednje kvadratne pogreške [`mean_squared_error`]( http://scikit-learn.org/stable/modules/generated/sklearn.metrics.mean_squared_error.html#sklearn.metrics.mean_squared_error) iz modula [`sklearn.metrics`](http://scikit-learn.org/stable/modules/classes.html#module-sklearn.metrics).\n",
    "\n",
    "**Q:** Gore definirana funkcija pogreške $E(h|\\mathcal{D})$ i funkcija srednje kvadratne pogreške nisu posve identične. U čemu je razlika? Koja je \"realnija\"?"
   ]
  },
  {
   "cell_type": "code",
   "execution_count": 6,
   "metadata": {},
   "outputs": [
    {
     "name": "stdout",
     "output_type": "stream",
     "text": [
      "Populating the interactive namespace from numpy and matplotlib\n",
      "4.08571428571\n",
      "2.04285714286\n"
     ]
    },
    {
     "name": "stderr",
     "output_type": "stream",
     "text": [
      "C:\\Program Files (x86)\\Microsoft Visual Studio\\Shared\\Anaconda3_64\\lib\\site-packages\\IPython\\core\\magics\\pylab.py:160: UserWarning: pylab import has clobbered these variables: ['poly']\n",
      "`%matplotlib` prevents importing * from pylab and numpy\n",
      "  \"\\n`%matplotlib` prevents importing * from pylab and numpy\"\n"
     ]
    },
    {
     "data": {
      "image/png": "[encoded data removed]",
      "text/plain": [
       "<matplotlib.figure.Figure at 0x15e4f252e10>"
      ]
     },
     "metadata": {},
     "output_type": "display_data"
    }
   ],
   "source": [
    "from sklearn.metrics import mean_squared_error\n",
    "import matplotlib.pyplot as plt\n",
    "%pylab inline\n",
    "\n",
    "plt.plot(X, y, 'x')\n",
    "\n",
    "def h_x_tilda(w, x_tilda):\n",
    "    return w[0]+w[1]*x_tilda\n",
    "\n",
    "x_data = linspace(0,5,100)\n",
    "plt.plot(x_data, h_x_tilda(w, x_data))\n",
    "\n",
    "def L_f(y, x, w):\n",
    "    h_x = h_x_tilda(w, x)\n",
    "    return (y-h_x)**2\n",
    "\n",
    "lista = [L_f(ely, elx[0], w) for (ely, elx) in zip(y, X)]\n",
    "E_rucno = 0.5 * sum(lista)\n",
    "\n",
    "E_pomocuFunkcije = mean_squared_error(y, h_x_tilda(w,X))\n",
    "print(E_rucno)\n",
    "print(E_pomocuFunkcije)\n",
    "plt.show()"
   ]
  },
  {
   "cell_type": "markdown",
   "metadata": {},
   "source": [
    "#### (d)"
   ]
  },
  {
   "cell_type": "markdown",
   "metadata": {},
   "source": [
    "Uvjerite se da za primjere iz $\\mathcal{D}$ težine $\\mathbf{w}$ ne možemo naći rješavanjem sustava $\\mathbf{w}=\\mathbf{\\Phi}^{-1}\\mathbf{y}$, već da nam doista treba pseudoinverz.\n",
    "\n",
    "**Q:** Zašto je to slučaj? Bi li se problem mogao riješiti preslikavanjem primjera u višu dimenziju? Ako da, bi li to uvijek funkcioniralo, neovisno o skupu primjera $\\mathcal{D}$? Pokažite na primjeru."
   ]
  },
  {
   "cell_type": "code",
   "execution_count": 7,
   "metadata": {},
   "outputs": [
    {
     "name": "stdout",
     "output_type": "stream",
     "text": [
      "(4, 2)\n"
     ]
    },
    {
     "ename": "LinAlgError",
     "evalue": "Last 2 dimensions of the array must be square",
     "output_type": "error",
     "traceback": [
      "\u001b[1;31m---------------------------------------------------------------------------\u001b[0m",
      "\u001b[1;31mLinAlgError\u001b[0m                               Traceback (most recent call last)",
      "\u001b[1;32m<ipython-input-7-3536f895b094>\u001b[0m in \u001b[0;36m<module>\u001b[1;34m()\u001b[0m\n\u001b[0;32m      1\u001b[0m \u001b[0mprint\u001b[0m\u001b[1;33m(\u001b[0m\u001b[0mnp\u001b[0m\u001b[1;33m.\u001b[0m\u001b[0mshape\u001b[0m\u001b[1;33m(\u001b[0m\u001b[0mtheta\u001b[0m\u001b[1;33m)\u001b[0m\u001b[1;33m)\u001b[0m\u001b[1;33m\u001b[0m\u001b[0m\n\u001b[1;32m----> 2\u001b[1;33m \u001b[0minv\u001b[0m\u001b[1;33m(\u001b[0m\u001b[0mtheta\u001b[0m\u001b[1;33m)\u001b[0m\u001b[1;33m\u001b[0m\u001b[0m\n\u001b[0m",
      "\u001b[1;32mC:\\Program Files (x86)\\Microsoft Visual Studio\\Shared\\Anaconda3_64\\lib\\site-packages\\numpy\\linalg\\linalg.py\u001b[0m in \u001b[0;36minv\u001b[1;34m(a)\u001b[0m\n\u001b[0;32m    506\u001b[0m     \u001b[0ma\u001b[0m\u001b[1;33m,\u001b[0m \u001b[0mwrap\u001b[0m \u001b[1;33m=\u001b[0m \u001b[0m_makearray\u001b[0m\u001b[1;33m(\u001b[0m\u001b[0ma\u001b[0m\u001b[1;33m)\u001b[0m\u001b[1;33m\u001b[0m\u001b[0m\n\u001b[0;32m    507\u001b[0m     \u001b[0m_assertRankAtLeast2\u001b[0m\u001b[1;33m(\u001b[0m\u001b[0ma\u001b[0m\u001b[1;33m)\u001b[0m\u001b[1;33m\u001b[0m\u001b[0m\n\u001b[1;32m--> 508\u001b[1;33m     \u001b[0m_assertNdSquareness\u001b[0m\u001b[1;33m(\u001b[0m\u001b[0ma\u001b[0m\u001b[1;33m)\u001b[0m\u001b[1;33m\u001b[0m\u001b[0m\n\u001b[0m\u001b[0;32m    509\u001b[0m     \u001b[0mt\u001b[0m\u001b[1;33m,\u001b[0m \u001b[0mresult_t\u001b[0m \u001b[1;33m=\u001b[0m \u001b[0m_commonType\u001b[0m\u001b[1;33m(\u001b[0m\u001b[0ma\u001b[0m\u001b[1;33m)\u001b[0m\u001b[1;33m\u001b[0m\u001b[0m\n\u001b[0;32m    510\u001b[0m \u001b[1;33m\u001b[0m\u001b[0m\n",
      "\u001b[1;32mC:\\Program Files (x86)\\Microsoft Visual Studio\\Shared\\Anaconda3_64\\lib\\site-packages\\numpy\\linalg\\linalg.py\u001b[0m in \u001b[0;36m_assertNdSquareness\u001b[1;34m(*arrays)\u001b[0m\n\u001b[0;32m    210\u001b[0m     \u001b[1;32mfor\u001b[0m \u001b[0ma\u001b[0m \u001b[1;32min\u001b[0m \u001b[0marrays\u001b[0m\u001b[1;33m:\u001b[0m\u001b[1;33m\u001b[0m\u001b[0m\n\u001b[0;32m    211\u001b[0m         \u001b[1;32mif\u001b[0m \u001b[0mmax\u001b[0m\u001b[1;33m(\u001b[0m\u001b[0ma\u001b[0m\u001b[1;33m.\u001b[0m\u001b[0mshape\u001b[0m\u001b[1;33m[\u001b[0m\u001b[1;33m-\u001b[0m\u001b[1;36m2\u001b[0m\u001b[1;33m:\u001b[0m\u001b[1;33m]\u001b[0m\u001b[1;33m)\u001b[0m \u001b[1;33m!=\u001b[0m \u001b[0mmin\u001b[0m\u001b[1;33m(\u001b[0m\u001b[0ma\u001b[0m\u001b[1;33m.\u001b[0m\u001b[0mshape\u001b[0m\u001b[1;33m[\u001b[0m\u001b[1;33m-\u001b[0m\u001b[1;36m2\u001b[0m\u001b[1;33m:\u001b[0m\u001b[1;33m]\u001b[0m\u001b[1;33m)\u001b[0m\u001b[1;33m:\u001b[0m\u001b[1;33m\u001b[0m\u001b[0m\n\u001b[1;32m--> 212\u001b[1;33m             \u001b[1;32mraise\u001b[0m \u001b[0mLinAlgError\u001b[0m\u001b[1;33m(\u001b[0m\u001b[1;34m'Last 2 dimensions of the array must be square'\u001b[0m\u001b[1;33m)\u001b[0m\u001b[1;33m\u001b[0m\u001b[0m\n\u001b[0m\u001b[0;32m    213\u001b[0m \u001b[1;33m\u001b[0m\u001b[0m\n\u001b[0;32m    214\u001b[0m \u001b[1;32mdef\u001b[0m \u001b[0m_assertFinite\u001b[0m\u001b[1;33m(\u001b[0m\u001b[1;33m*\u001b[0m\u001b[0marrays\u001b[0m\u001b[1;33m)\u001b[0m\u001b[1;33m:\u001b[0m\u001b[1;33m\u001b[0m\u001b[0m\n",
      "\u001b[1;31mLinAlgError\u001b[0m: Last 2 dimensions of the array must be square"
     ]
    }
   ],
   "source": [
    "print(np.shape(theta))\n",
    "inv(theta)"
   ]
  },
  {
   "cell_type": "markdown",
   "metadata": {},
   "source": [
    "#### (e) "
   ]
  },
  {
   "cell_type": "markdown",
   "metadata": {},
   "source": [
    "Proučite klasu [`LinearRegression`](http://scikit-learn.org/stable/modules/generated/sklearn.linear_model.LinearRegression.html#sklearn.linear_model.LinearRegression) iz modula [`sklearn.linear_model`](http://scikit-learn.org/stable/modules/classes.html#module-sklearn.linear_model). Uvjerite se da su težine koje izračunava ta funkcija (dostupne pomoću atributa `coef_` i `intercept_`) jednake onima koje ste izračunali gore. Izračunajte predikcije modela (metoda `predict`) i uvjerite se da je pogreška učenja identična onoj koju ste ranije izračunali."
   ]
  },
  {
   "cell_type": "code",
   "execution_count": null,
   "metadata": {},
   "outputs": [],
   "source": [
    "from sklearn.linear_model import LinearRegression\n",
    "reg = LinearRegression().fit(X, y)\n",
    "w_pomocu_funk_linreg = [reg.intercept_, reg.coef_[0]]\n",
    "print(w_pomocu_funk_linreg)"
   ]
  },
  {
   "cell_type": "markdown",
   "metadata": {},
   "source": [
    "### 2. Polinomijalna regresija i utjecaj šuma"
   ]
  },
  {
   "cell_type": "markdown",
   "metadata": {},
   "source": [
    "#### (a)\n",
    "\n",
    "Razmotrimo sada regresiju na većem broju primjera. Koristite funkciju `make_labels(X, f, noise=0)` koja uzima matricu neoznačenih primjera $\\mathbf{X}_{N\\times n}$ te generira vektor njihovih oznaka $\\mathbf{y}_{N\\times 1}$. Oznake se generiraju kao $y^{(i)} = f(x^{(i)})+\\mathcal{N}(0,\\sigma^2)$, gdje je $f:\\mathbb{R}^n\\to\\mathbb{R}$ stvarna funkcija koja je generirala podatke (koja nam je u stvarnosti nepoznata), a $\\sigma$ je standardna devijacija Gaussovog šuma, definirana parametrom `noise`. Za generiranje šuma koristi se funkcija [`numpy.random.normal`](http://docs.scipy.org/doc/numpy/reference/generated/numpy.random.normal.html). \n",
    "\n",
    "Generirajte skup za učenje od $N=50$ primjera uniformno distribuiranih u intervalu $[-5,5]$ pomoću funkcije $f(x) = 5 + x -2 x^2 -5 x^3$ uz šum  $\\sigma=200$:"
   ]
  },
  {
   "cell_type": "code",
   "execution_count": null,
   "metadata": {
    "collapsed": true
   },
   "outputs": [],
   "source": [
    "from numpy.random import normal\n",
    "def make_labels(X, f, noise=0) :\n",
    "    return map(lambda x : f(x) + (normal(0,noise) if noise>0 else 0), X)"
   ]
  },
  {
   "cell_type": "code",
   "execution_count": null,
   "metadata": {
    "collapsed": true
   },
   "outputs": [],
   "source": [
    "def make_instances(x1, x2, N) :\n",
    "    return sp.array([np.array([x]) for x in np.linspace(x1,x2,N)])"
   ]
  },
  {
   "cell_type": "code",
   "execution_count": null,
   "metadata": {
    "collapsed": true
   },
   "outputs": [],
   "source": [
    "import scipy as sp\n",
    "X = make_instances(-5, 5, 50)\n",
    "def f_x(x):\n",
    "    return 5+x-2*x**2-5*x**3\n",
    "\n",
    "Y = list(make_labels(X, f_x, 200))\n"
   ]
  },
  {
   "cell_type": "markdown",
   "metadata": {},
   "source": [
    "Prikažite taj skup funkcijom [`scatter`](http://matplotlib.org/api/pyplot_api.html#matplotlib.pyplot.scatter)."
   ]
  },
  {
   "cell_type": "code",
   "execution_count": null,
   "metadata": {},
   "outputs": [],
   "source": [
    "plt.scatter(X, Y)\n",
    "plt.show()"
   ]
  },
  {
   "cell_type": "markdown",
   "metadata": {},
   "source": [
    "#### (b)"
   ]
  },
  {
   "cell_type": "markdown",
   "metadata": {},
   "source": [
    "Trenirajte model polinomijalne regresije stupnja $d=3$. Na istom grafikonu prikažite naučeni model $h(\\mathbf{x})=\\mathbf{w}^\\intercal\\tilde{\\mathbf{x}}$ i primjere za učenje. Izračunajte pogrešku učenja modela."
   ]
  },
  {
   "cell_type": "code",
   "execution_count": null,
   "metadata": {},
   "outputs": [],
   "source": [
    "def E(x, y, w):\n",
    "    lista = [L_f(ely, elx[0], w) for ely, elx in zip(y, x)]\n",
    "    return 0.5*sum(lista)\n",
    "    \n",
    "def L_f(y, x, w):\n",
    "    h_x = h_x_tilda(w, x)\n",
    "    return (y-h_x)**2\n",
    "\n",
    "def h_x_tilda(w, x):\n",
    "    return dot(transpose(w),x)\n",
    "\n",
    "x_data = linspace(-5,5, 100)\n",
    "poly3 = PolynomialFeatures(degree = 3, include_bias=False)\n",
    "poly3dummy = PolynomialFeatures(degree=3, include_bias=True)\n",
    "#fit_transform je funkcija preslikavanja\n",
    "xtilda = poly3dummy.fit_transform(x_data.reshape([-1,1]))\n",
    "theta = poly3.fit_transform(X)\n",
    "reg = LinearRegression().fit(theta, Y)\n",
    "\n",
    "w=[]\n",
    "w.extend(reg.intercept_)\n",
    "w.extend(reg.coef_[0])\n",
    "\n",
    "h_x = dot(xtilda, w)\n",
    "plt.scatter(X, Y, c= 'r')\n",
    "plt.plot(x_data, h_x)\n",
    "plt.show()\n",
    "print(E(X, Y, w))"
   ]
  },
  {
   "cell_type": "markdown",
   "metadata": {},
   "source": [
    "### 3. Odabir modela"
   ]
  },
  {
   "cell_type": "markdown",
   "metadata": {},
   "source": [
    "#### (a)\n",
    "\n",
    "Na skupu podataka iz zadatka 2 trenirajte pet modela linearne regresije $\\mathcal{H}_d$ različite složenosti, gdje je $d$ stupanj polinoma, $d\\in\\{1,3,5,10,20\\}$. Prikažite na istome grafikonu skup za učenje i funkcije $h_d(\\mathbf{x})$ za svih pet modela (preporučujemo koristiti `plot` unutar `for` petlje). Izračunajte pogrešku učenja svakog od modela.\n",
    "\n",
    "**Q:** Koji model ima najmanju pogrešku učenja i zašto?"
   ]
  },
  {
   "cell_type": "code",
   "execution_count": null,
   "metadata": {},
   "outputs": [],
   "source": [
    "d = [1, 3, 5, 10, 20]\n",
    "x_data = linspace(-5,5,1000).reshape([-1,1])\n",
    "\n",
    "def izracunajW(x, y):\n",
    "    return dot(pinv(x), y)\n",
    "\n",
    "def h_x (w, x):\n",
    "    return dot(x, w)\n",
    "\n",
    "def pogUcenja(ocekivano, dobiveno):\n",
    "    return 0.5*(sum((ocekivano-dobiveno)**2))\n",
    "\n",
    "plt.scatter(X, Y)\n",
    "\n",
    "for el in d:\n",
    "    poly = PolynomialFeatures(degree=el)\n",
    "    theta = poly.fit_transform(X)\n",
    "    x_data_transform = poly.fit_transform(x_data)\n",
    "    #salje se theta jer se mora poklapat w0+w1*x1+w2*x2\n",
    "    w = izracunajW(theta,Y)\n",
    "    hx = h_x(w, x_data_transform)\n",
    "    plt.plot(x_data, hx, label='d='+str(el))\n",
    "    plt.legend(loc=\"best\")\n",
    "    print('Pogreska ucenja za d={0} je {1}'.format(el, pogUcenja(Y, h_x(w, theta))))\n",
    "          \n",
    "plt.show()"
   ]
  },
  {
   "cell_type": "markdown",
   "metadata": {},
   "source": [
    "#### (b)"
   ]
  },
  {
   "cell_type": "markdown",
   "metadata": {},
   "source": [
    "Razdvojite skup primjera iz zadatka 2 pomoću funkcije [`cross_validation.train_test_split`](http://scikit-learn.org/stable/modules/generated/sklearn.cross_validation.train_test_split.html#sklearn.cross_validation.train_test_split) na skup za učenja i skup za ispitivanje u omjeru 1:1. Prikažite na jednom grafikonu pogrešku učenja i ispitnu pogrešku za modele polinomijalne regresije $\\mathcal{H}_d$, sa stupnjem polinoma $d$ u rasponu $d\\in [1,2,\\ldots,20]$. Radi preciznosti, funkcije $h(\\mathbf{x})$ iscrtajte na cijelom skupu primjera (ali pogrešku generalizacije računajte, naravno, samo na ispitnome skupu). Budući da kvadratna pogreška brzo raste za veće stupnjeve polinoma, umjesto da iscrtate izravno iznose pogrešaka, iscrtajte njihove logaritme.\n",
    "\n",
    "**NB:** Podjela na skupa za učenje i skup za ispitivanje mora za svih pet modela biti identična.\n",
    "\n",
    "**Q:** Je li rezultat u skladu s očekivanjima? Koji biste model odabrali i zašto?\n",
    "\n",
    "**Q:** Pokrenite iscrtavanje više puta. U čemu je problem? Bi li problem bio jednako izražen kad bismo imali više primjera? Zašto?"
   ]
  },
  {
   "cell_type": "code",
   "execution_count": null,
   "metadata": {},
   "outputs": [],
   "source": [
    "from sklearn.cross_validation import train_test_split"
   ]
  },
  {
   "cell_type": "code",
   "execution_count": null,
   "metadata": {},
   "outputs": [],
   "source": [
    "x_train, x_test, y_train, y_test = train_test_split(X, Y, test_size=0.5)\n",
    "\n",
    "x_train_6 = x_train\n",
    "x_test_6 = x_test\n",
    "y_train_6 = y_train\n",
    "y_test_6 = y_test\n",
    "\n",
    "def E(h_x,y):\n",
    "    return (0.5*sum((h_x-y)**2))\n",
    "\n",
    "def hx(w,x):\n",
    "    return dot(x, w)\n",
    "\n",
    "def get_weights(theta, y):\n",
    "    return dot(pinv(theta), y)\n",
    "\n",
    "Etrain = []\n",
    "Etest = []\n",
    "for i in range(1,21):\n",
    "    poly = PolynomialFeatures(degree = i, include_bias=True)\n",
    "    # u theta su dummy jedinice\n",
    "    theta_train = poly.fit_transform(x_train)\n",
    "    theta_test = poly.fit_transform(x_test)\n",
    "    w = get_weights(theta_train, y_train)\n",
    "    # h_x = w0+w1*x1+w2*x2+..\n",
    "    h_x_train = hx(w, theta_train)\n",
    "    h_x_test = hx(w, theta_test)\n",
    "    y_train = reshape(y_train, (-1,1))\n",
    "    Etrain.append(E(h_x_train, y_train))\n",
    "    Etest.append(E(h_x_test, y_test))\n",
    "\n",
    "plt.plot(range(1,21), log(Etrain), label='E_train')\n",
    "plt.plot(range(1,21), log(Etest), label='E_test')   \n",
    "plt.legend(loc=\"best\")\n",
    "plt.show()\n",
    "\n",
    "Xprobaj = make_instances(-5, 5, 1000)\n",
    "\n",
    "Yprobaj = list(make_labels(Xprobaj, f_x, 200))\n",
    "\n",
    "xprobaj_train, xprobaj_test, yprobaj_train, yprobaj_test = train_test_split(Xprobaj, Yprobaj, test_size=0.5)\n",
    "\n",
    "Etrainprobaj = []\n",
    "Etestprobaj = []\n",
    "for i in range(1,21):\n",
    "    polyprobaj = PolynomialFeatures(degree = i, include_bias=True)\n",
    "    # u theta su dummy jedinice\n",
    "    thetaprobaj_train = polyprobaj.fit_transform(xprobaj_train)\n",
    "    thetaprobaj_test = polyprobaj.fit_transform(xprobaj_test)\n",
    "    wprobaj = get_weights(thetaprobaj_train, yprobaj_train)\n",
    "    # h_x = w0+w1*x1+w2*x2+..\n",
    "    h_x_trainprobaj = hx(wprobaj, thetaprobaj_train)\n",
    "    h_x_testprobaj = hx(wprobaj, thetaprobaj_test)\n",
    "    yprbaj_train = reshape(yprobaj_train, (-1,1))\n",
    "    Etrainprobaj.append(E(h_x_trainprobaj, yprobaj_train))\n",
    "    Etestprobaj.append(E(h_x_testprobaj, yprobaj_test))\n",
    "\n",
    "plt.plot(range(1,21), log(Etrainprobaj), label='E_train')\n",
    "plt.plot(range(1,21), log(Etestprobaj), label='E_test')   \n",
    "plt.legend(loc=\"best\")\n",
    "plt.show()\n",
    "\n"
   ]
  },
  {
   "cell_type": "markdown",
   "metadata": {},
   "source": [
    "#### (c)"
   ]
  },
  {
   "cell_type": "markdown",
   "metadata": {},
   "source": [
    "Točnost modela ovisi o (1) njegovoj složenosti (stupanj $d$ polinoma), (2) broju primjera $N$, i (3) količini šuma. Kako biste to analizirali, nacrtajte grafikone pogrešaka kao u 3b, ali za sve kombinacija broja primjera $N\\in\\{100,200,1000\\}$ i količine šuma $\\sigma\\in\\{100,200,500\\}$ (ukupno 9 grafikona). Upotrijebite funkciju [`subplots`](http://matplotlib.org/examples/pylab_examples/subplots_demo.html) kako biste pregledno posložili grafikone u tablicu $3\\times 3$. Podatci se generiraju na isti način kao u zadatku 2.\n",
    "\n",
    "**NB:** Pobrinite se da svi grafikoni budu generirani nad usporedivim skupovima podataka, na sljedeći način. Generirajte najprije svih 1000 primjera, podijelite ih na skupove za učenje i skupove za ispitivanje (dva skupa od po 500 primjera). Zatim i od skupa za učenje i od skupa za ispitivanje načinite tri različite verzije, svaka s drugačijom količinom šuma (ukupno 2x3=6 verzija podataka). Kako bi simulirali veličinu skupa podataka, od tih dobivenih 6 skupova podataka uzorkujte trećinu, dvije trećine i sve podatke. Time ste dobili 18 skupova podataka -- skup za učenje i za testiranje za svaki od devet grafova."
   ]
  },
  {
   "cell_type": "markdown",
   "metadata": {},
   "source": [
    "***Q:*** Jesu li rezultati očekivani? Obrazložite."
   ]
  },
  {
   "cell_type": "code",
   "execution_count": null,
   "metadata": {},
   "outputs": [],
   "source": [
    "import random as random\n",
    "X = make_instances(-5, 5, 1000)\n",
    "x_train, x_test = train_test_split(X, test_size=0.5)\n",
    "\n",
    "x_train = list(x_train)\n",
    "x_test = list(x_test)\n",
    "\n",
    "x_train_N100 = np.array(random.sample(x_train,100))\n",
    "x_train_N200 = np.array(random.sample(x_train,200))\n",
    "x_train_N500 = np.array(random.sample(x_train,500))\n",
    "\n",
    "Ytrain_sum100_N100 = list(make_labels(x_train_N100, f_x, 100))\n",
    "Ytrain_sum100_N200 = list(make_labels(x_train_N200, f_x, 100))\n",
    "Ytrain_sum100_N500 = list(make_labels(x_train_N500, f_x, 100))\n",
    "\n",
    "Ytrain_sum200_N100 = list(make_labels(x_train_N100, f_x, 200))\n",
    "Ytrain_sum200_N200 = list(make_labels(x_train_N200, f_x, 200))\n",
    "Ytrain_sum200_N500 = list(make_labels(x_train_N500, f_x, 200))\n",
    "\n",
    "Ytrain_sum500_N100 = list(make_labels(x_train_N100, f_x, 500))\n",
    "Ytrain_sum500_N200 = list(make_labels(x_train_N200, f_x, 500))\n",
    "Ytrain_sum500_N500 = list(make_labels(x_train_N500, f_x, 500))\n",
    "\n",
    "x_test_N100 = np.array(random.sample(x_test,100))\n",
    "x_test_N200 = np.array(random.sample(x_test,200))\n",
    "x_test_N500 = np.array(random.sample(x_test,500))\n",
    "\n",
    "Ytest_sum100_N100 = list(make_labels(x_test_N100, f_x, 100))\n",
    "Ytest_sum100_N200 = list(make_labels(x_test_N200, f_x, 100))\n",
    "Ytest_sum100_N500 = list(make_labels(x_test_N500, f_x, 100))\n",
    "\n",
    "Ytest_sum200_N100 = list(make_labels(x_test_N100, f_x, 200))\n",
    "Ytest_sum200_N200 = list(make_labels(x_test_N200, f_x, 200))\n",
    "Ytest_sum200_N500 = list(make_labels(x_test_N500, f_x, 200))\n",
    "\n",
    "Ytest_sum500_N100 = list(make_labels(x_test_N100, f_x, 500))\n",
    "Ytest_sum500_N200 = list(make_labels(x_test_N200, f_x, 500))\n",
    "Ytest_sum500_N500 = list(make_labels(x_test_N500, f_x, 500))\n",
    "\n",
    "\n",
    "def get_weight(theta, y):\n",
    "    return dot(pinv(theta), y)\n",
    "\n",
    "def greska(ocekivano, stvarno):\n",
    "    return (0.5*sum((ocekivano-stvarno)**2))\n",
    "\n",
    "def ocekivanje(w, x):\n",
    "    return dot(x, w)\n",
    "\n",
    "def prikaz(brGrafa, x, y):\n",
    "    subplot(3,3,brGrafa)\n",
    "    Etrain=[]\n",
    "    vrati = []\n",
    "    for i in range(1, 21):\n",
    "        poly = PolynomialFeatures(degree=i, include_bias=True)\n",
    "        theta = poly.fit_transform(x)\n",
    "        w=get_weight(theta, y)\n",
    "        vrati.append(w)\n",
    "        h_x = ocekivanje(w, theta)\n",
    "        Etrain.append(greska(y, h_x))\n",
    "    plt.plot(range(1,21), log(Etrain), c='g')\n",
    "    return vrati\n",
    "\n",
    "def prikazTest(brGrafa, x, y, w):\n",
    "    subplot(3,3,brGrafa)\n",
    "    Etest=[]\n",
    "    for i in range(1, 21):\n",
    "        poly = PolynomialFeatures(degree=i, include_bias=True)\n",
    "        theta = poly.fit_transform(x)\n",
    "        h_x = ocekivanje(w[i-1], theta)\n",
    "        Etest.append(greska(y, h_x))\n",
    "    plt.plot(range(1,21), log(Etest), c='r')\n",
    "    \n",
    "w1=prikaz(1, x_train_N100, Ytrain_sum100_N100)\n",
    "w2=prikaz(2, x_train_N200, Ytrain_sum100_N200)\n",
    "w3=prikaz(3, x_train_N500, Ytrain_sum100_N500)\n",
    "w4=prikaz(4, x_train_N100, Ytrain_sum200_N100)\n",
    "w5=prikaz(5, x_train_N200, Ytrain_sum200_N200)\n",
    "w6=prikaz(6, x_train_N500, Ytrain_sum200_N500)\n",
    "w7=prikaz(7, x_train_N100, Ytrain_sum500_N100)\n",
    "w8=prikaz(8, x_train_N200, Ytrain_sum500_N200)\n",
    "w9=prikaz(9, x_train_N500, Ytrain_sum500_N500)\n",
    "  \n",
    "prikazTest(1, x_test_N100, Ytest_sum100_N100,w1)\n",
    "prikazTest(2, x_test_N200, Ytest_sum100_N200,w2)\n",
    "prikazTest(3, x_test_N500, Ytest_sum100_N500,w3)\n",
    "prikazTest(4, x_test_N100, Ytest_sum200_N100,w4)\n",
    "prikazTest(5, x_test_N200, Ytest_sum200_N200,w5)\n",
    "prikazTest(6, x_test_N500, Ytest_sum200_N500,w6)\n",
    "prikazTest(7, x_test_N100, Ytest_sum500_N100,w7)\n",
    "prikazTest(8, x_test_N200, Ytest_sum500_N200,w8)\n",
    "prikazTest(9, x_test_N500, Ytest_sum500_N500,w9)\n"
   ]
  },
  {
   "cell_type": "markdown",
   "metadata": {},
   "source": [
    "### 4. Regularizirana regresija"
   ]
  },
  {
   "cell_type": "markdown",
   "metadata": {},
   "source": [
    "#### (a)\n",
    "\n",
    "U gornjim eksperimentima nismo koristili **regularizaciju**. Vratimo se najprije na primjer iz zadatka 1. Na primjerima iz tog zadatka izračunajte težine $\\mathbf{w}$ za polinomijalni regresijski model stupnja $d=3$ uz L2-regularizaciju (tzv. *ridge regression*), prema izrazu $\\mathbf{w}=(\\mathbf{\\Phi}^\\intercal\\mathbf{\\Phi}+\\lambda\\mathbf{I})^{-1}\\mathbf{\\Phi}^\\intercal\\mathbf{y}$. Napravite izračun težina za regularizacijske faktore $\\lambda=0$, $\\lambda=1$ i $\\lambda=10$ te usporedite dobivene težine.\n",
    "\n",
    "**Q:** Kojih je dimenzija matrica koju treba invertirati?\n",
    "\n",
    "**Q:** Po čemu se razlikuju dobivene težine i je li ta razlika očekivana? Obrazložite."
   ]
  },
  {
   "cell_type": "code",
   "execution_count": null,
   "metadata": {},
   "outputs": [],
   "source": [
    "X = np.array([[0],[1],[2],[4]])\n",
    "y = np.array([4,1,2,5])\n",
    "\n",
    "lambde = [0,1,10]\n",
    "poly3dummy = PolynomialFeatures(degree=3, include_bias=True)\n",
    "theta = poly3dummy.fit_transform(X)\n",
    "#m+1=3+1=d+1\n",
    "#w0 se ne regularizira\n",
    "\n",
    "def racunajW(lambda_, theta, y):\n",
    "    matrica = np.eye(4)\n",
    "    matrica[0][0]=0\n",
    "    return inv(transpose(theta).dot(theta)+la*matrica).dot(transpose(theta)).dot(y)\n",
    "\n",
    "for la in lambde:\n",
    "    w = racunajW(la, theta, y)\n",
    "    print(w)"
   ]
  },
  {
   "cell_type": "markdown",
   "metadata": {},
   "source": [
    "#### (b)"
   ]
  },
  {
   "cell_type": "markdown",
   "metadata": {},
   "source": [
    "Proučite klasu [`Ridge`](http://scikit-learn.org/stable/modules/generated/sklearn.linear_model.Ridge.html#sklearn.linear_model.Ridge) iz modula [`sklearn.linear_model`](http://scikit-learn.org/stable/modules/classes.html#module-sklearn.linear_model), koja implementira L2-regularizirani regresijski model. Parametar $\\alpha$ odgovara parametru $\\lambda$. Primijenite model na istim primjerima kao u prethodnom zadatku i ispišite težine $\\mathbf{w}$ (atributi `coef_` i `intercept_`).\n",
    "\n",
    "**Q:** Jesu li težine identične onima iz zadatka 4a? Ako nisu, objasnite zašto je to tako i kako biste to popravili."
   ]
  },
  {
   "cell_type": "code",
   "execution_count": null,
   "metadata": {
    "collapsed": true
   },
   "outputs": [],
   "source": [
    "from sklearn.linear_model import Ridge"
   ]
  },
  {
   "cell_type": "code",
   "execution_count": null,
   "metadata": {},
   "outputs": [],
   "source": [
    "for la in lambde:\n",
    "    w = []\n",
    "    ri = Ridge(alpha = la)\n",
    "    ri.fit(theta, y)\n",
    "    w.append(ri.intercept_)\n",
    "    for coef in ri.coef_[1:4]:\n",
    "        w.append(coef)\n",
    "    print('w:', w)\n",
    "    \n",
    "for la in lambde:\n",
    "    w = []\n",
    "    ri = Ridge(alpha = la)\n",
    "    ri.fit(theta, y)\n",
    "    w.append(round(ri.intercept_, 8))\n",
    "    for coef in ri.coef_[1:4]:\n",
    "        w.append(round(coef, 8))\n",
    "    print('w_zaokruzenp:', w)"
   ]
  },
  {
   "cell_type": "markdown",
   "metadata": {},
   "source": [
    "### 5. Regularizirana polinomijalna regresija"
   ]
  },
  {
   "cell_type": "markdown",
   "metadata": {},
   "source": [
    "#### (a)\n",
    "\n",
    "Vratimo se na slučaj $N=50$ slučajno generiranih primjera iz zadatka 2. Trenirajte modele polinomijalne regresije $\\mathcal{H}_{\\lambda,d}$ za $\\lambda\\in\\{0,100\\}$ i $d\\in\\{2,10\\}$ (ukupno četiri modela). Skicirajte pripadne funkcije $h(\\mathbf{x})$ i primjere (na jednom grafikonu; preporučujemo koristiti `plot` unutar `for` petlje).\n",
    "\n",
    "**Q:** Jesu li rezultati očekivani? Obrazložite."
   ]
  },
  {
   "cell_type": "code",
   "execution_count": null,
   "metadata": {},
   "outputs": [],
   "source": [
    "def make_labels(X, f, noise=0) :\n",
    "    return map(lambda x : f(x) + (normal(0,noise) if noise>0 else 0), X)\n",
    "\n",
    "def make_instances(x1, x2, N) :\n",
    "    return sp.array([np.array([x]) for x in np.linspace(x1,x2,N)])\n",
    "\n",
    "def f_x(x):\n",
    "    return 5+x-2*x**2-5*x**3\n",
    "\n",
    "def racunajW(lambda_, theta, y, stupanj):\n",
    "    matrica = np.eye(stupanj+1)\n",
    "    matrica[0][0]=0\n",
    "    return inv(transpose(theta).dot(theta)+lambda_*matrica).dot(transpose(theta)).dot(y)\n",
    "\n",
    "def racunaj_hx(w, x):\n",
    "    return dot(x, w.reshape([-1,1]))\n",
    "\n",
    "def nacrtaj_hx(w, xtrans, x, stupanj, lambda_):\n",
    "    hx = racunaj_hx(w, xtrans)\n",
    "    hx = hx.reshape([1,-1])\n",
    "    plt.plot(x, hx[0], label='lambda={0}, a stupanj={1}'.format(lambda_, stupanj))\n",
    "    plt.legend(loc=\"best\")\n",
    "    \n",
    "\n",
    "X = make_instances(-5, 5, 50)\n",
    "Y = list(make_labels(X, f_x, 200))\n",
    "plt.scatter(X,Y)\n",
    "\n",
    "lambde = [0, 100]\n",
    "d = [2,10]\n",
    "\n",
    "for lambda_ in lambde:\n",
    "    for stupanj in d:\n",
    "        ridge = Ridge(alpha=lambda_, fit_intercept=False)\n",
    "        poly = PolynomialFeatures(degree = stupanj)\n",
    "        theta = poly.fit_transform(X)\n",
    "        w = ridge.fit(theta, Y).coef_\n",
    "        x_data = linspace(-5,5,1000).reshape([-1,1])\n",
    "        x_data_transform = poly.fit_transform(x_data)\n",
    "        nacrtaj_hx(w, x_data_transform, x_data, stupanj, lambda_)\n",
    "\n",
    "        \n",
    "        "
   ]
  },
  {
   "cell_type": "markdown",
   "metadata": {},
   "source": [
    "#### (b)\n",
    "\n",
    "Kao u zadataku 3b, razdvojite primjere na skup za učenje i skup za ispitivanje u omjeru 1:1. Prikažite krivulje logaritama pogreške učenja i ispitne pogreške u ovisnosti za model $\\mathcal{H}_{d=20,\\lambda}$, podešavajući faktor regularizacije $\\lambda$ u rasponu $\\lambda\\in\\{0,1,\\dots,50\\}$.\n",
    "\n",
    "**Q:** Kojoj strani na grafikonu odgovara područje prenaučenosti, a kojoj podnaučenosti? Zašto?\n",
    "\n",
    "**Q:** Koju biste vrijednosti za $\\lambda$ izabrali na temelju ovih grafikona i zašto?\n"
   ]
  },
  {
   "cell_type": "code",
   "execution_count": null,
   "metadata": {
    "collapsed": true
   },
   "outputs": [],
   "source": [
    "x_train, x_test, y_train, y_test = train_test_split(X, Y, test_size=0.5)"
   ]
  },
  {
   "cell_type": "code",
   "execution_count": null,
   "metadata": {},
   "outputs": [],
   "source": [
    "\n",
    "d = 20\n",
    "\n",
    "def izracunaj_E(ocekivano, dobiveno, lambda_, w):\n",
    "    help = 0.5*(sum((dobiveno-ocekivano)**2))\n",
    "    return (help+lambda_*0.5*(np.linalg.norm(w))**2)\n",
    "\n",
    "def izracunaj_hx(theta, w):\n",
    "    return dot(theta, w.reshape([-1,1]))\n",
    "\n",
    "EtrainLista=[]\n",
    "EtestLista = []\n",
    "\n",
    "for lambda_ in range(0, 51):\n",
    "    ridge = Ridge(alpha=lambda_)\n",
    "    poly = PolynomialFeatures(degree=d, include_bias=True)\n",
    "    x_train_trans = poly.fit_transform(x_train)\n",
    "    train = ridge.fit(x_train_trans, y_train)\n",
    "    w = train.coef_\n",
    "    hx = izracunaj_hx(x_train_trans, w)\n",
    "    y_dobiven = hx\n",
    "    E_train = izracunaj_E(y_train, y_dobiven, lambda_, w)\n",
    "    EtrainLista.append(E_train)\n",
    "    \n",
    "    x_test_trans = poly.fit_transform(x_test)\n",
    "    hx_test = izracunaj_hx(x_test_trans, w)\n",
    "    y_dobiven_test = hx_test\n",
    "    E_test = izracunaj_E(y_test, y_dobiven_test, lambda_, w)\n",
    "    EtestLista.append(E_test)\n",
    "\n",
    "plot(range(0, 51), log(EtrainLista), label='train')\n",
    "plot(range(0, 51), log(EtestLista), label='test')\n",
    "plt.xlabel('lambda')\n",
    "plt.ylabel('E')\n",
    "plt.legend(loc=\"best\")\n",
    "plt.show()\n",
    "    "
   ]
  },
  {
   "cell_type": "markdown",
   "metadata": {},
   "source": [
    "### 6. L1-regularizacija i L2-regularizacija"
   ]
  },
  {
   "cell_type": "markdown",
   "metadata": {},
   "source": [
    "Svrha regularizacije jest potiskivanje težina modela $\\mathbf{w}$ prema nuli, kako bi model bio što jednostavniji. Složenost modela može se okarakterizirati normom pripadnog vektora težina $\\mathbf{w}$, i to tipično L2-normom ili L1-normom. Za jednom trenirani model možemo izračunati i broj ne-nul značajki, ili L0-normu, pomoću sljedeće funkcije:"
   ]
  },
  {
   "cell_type": "code",
   "execution_count": null,
   "metadata": {
    "collapsed": true
   },
   "outputs": [],
   "source": [
    "def nonzeroes(coef, tol=1e-6): \n",
    "    return len(coef) - len(coef[sp.isclose(0, coef, atol=tol)])"
   ]
  },
  {
   "cell_type": "markdown",
   "metadata": {},
   "source": [
    "#### (a)\n",
    "\n",
    "Za ovaj zadatak upotrijebite skup za učenje i skup za testiranje iz zadatka 3b. Trenirajte modele **L2-regularizirane** polinomijalne regresije stupnja $d=20$, mijenjajući hiperparametar $\\lambda$ u rasponu $\\{1,2,\\dots,100\\}$. Za svaki od treniranih modela izračunajte L{0,1,2}-norme vektora težina $\\mathbf{w}$ te ih prikažite kao funkciju od $\\lambda$.\n",
    "\n",
    "**Q:** Objasnite oblik obiju krivulja. Hoće li krivulja za $\\|\\mathbf{w}\\|_2$ doseći nulu? Zašto? Je li to problem? Zašto?\n",
    "\n",
    "**Q:** Za $\\lambda=100$, koliki je postotak težina modela jednak nuli, odnosno koliko je model rijedak?"
   ]
  },
  {
   "cell_type": "code",
   "execution_count": null,
   "metadata": {},
   "outputs": [],
   "source": [
    "from sklearn.linear_model import Ridge\n",
    "from sklearn.linear_model import Lasso\n",
    "\n",
    "def racunaj_L0(w):\n",
    "    return nonzeroes(w)\n",
    "\n",
    "def racunaj_L1(w):\n",
    "    return sum(absolute(w_) for w_ in w)\n",
    "\n",
    "def racunaj_L2(w):\n",
    "    return sqrt(sum((w_**2) for w_ in w))\n",
    "\n",
    "d=20\n",
    "\n",
    "L0_list = []\n",
    "L1_list = []\n",
    "L2_list = []\n",
    "\n",
    "for lambda_ in range(1,101):\n",
    "    ridge = Ridge(alpha=lambda_, fit_intercept=False)\n",
    "    poly = PolynomialFeatures(degree=d)\n",
    "    x_train_6_trans = poly.fit_transform(x_train_6)\n",
    "    train = ridge.fit(x_train_6_trans, y_train)\n",
    "    w = train.coef_[0]\n",
    "    L0 = racunaj_L0(w)\n",
    "    L1 = racunaj_L1(w)\n",
    "    L2 = racunaj_L2(w)\n",
    "    L0_list.append(L0)\n",
    "    L1_list.append(L1)\n",
    "    L2_list.append(L2)\n",
    "    \n",
    "print('w=', w)\n",
    "print('postotak nenula:', nonzeroes(w)/w.size)\n",
    "plt.plot(range(1,101), L0_list, label='L0')\n",
    "plt.plot(range(1,101), L1_list, label='L1')\n",
    "plt.plot(range(1,101), L2_list, label='L2')\n",
    "plt.xlabel('lambda')\n",
    "plt.ylabel('norma od w')\n",
    "plt.legend(loc=\"best\")\n",
    "plt.show()\n",
    "\n"
   ]
  },
  {
   "cell_type": "markdown",
   "metadata": {},
   "source": [
    "#### (b)"
   ]
  },
  {
   "cell_type": "markdown",
   "metadata": {},
   "source": [
    "Glavna prednost L1-regularizirane regresije (ili *LASSO regression*) nad L2-regulariziranom regresijom jest u tome što L1-regularizirana regresija rezultira **rijetkim modelima** (engl. *sparse models*), odnosno modelima kod kojih su mnoge težine pritegnute na nulu. Pokažite da je to doista tako, ponovivši gornji eksperiment s **L1-regulariziranom** regresijom, implementiranom u klasi  [`Lasso`](http://scikit-learn.org/stable/modules/generated/sklearn.linear_model.Lasso.html) u modulu [`sklearn.linear_model`](http://scikit-learn.org/stable/modules/classes.html#module-sklearn.linear_model)."
   ]
  },
  {
   "cell_type": "code",
   "execution_count": null,
   "metadata": {},
   "outputs": [],
   "source": [
    "from sklearn import linear_model\n",
    "\n",
    "L0_list = []\n",
    "L1_list = []\n",
    "L2_list = []\n",
    "\n",
    "for lambda_ in range(1,101):\n",
    "    clf = linear_model.Lasso(alpha=lambda_)\n",
    "    w = clf.fit(x_train_6_trans, y_train).coef_\n",
    "    L0 = racunaj_L0(w)\n",
    "    L1 = racunaj_L1(w)\n",
    "    L2 = racunaj_L2(w)\n",
    "    L0_list.append(L0)\n",
    "    L1_list.append(L1)\n",
    "    L2_list.append(L2)\n",
    "        \n",
    "plt.plot(range(1,101), L0_list, label='L0')\n",
    "plt.plot(range(1,101), L1_list, label='L1')\n",
    "plt.plot(range(1,101), L2_list, label='L2')\n",
    "plt.legend(loc=\"best\")\n",
    "plt.show()"
   ]
  },
  {
   "cell_type": "markdown",
   "metadata": {},
   "source": [
    "### 7. Značajke različitih skala"
   ]
  },
  {
   "cell_type": "markdown",
   "metadata": {},
   "source": [
    "Često se u praksi možemo susreti sa podatcima u kojima sve značajke nisu jednakih magnituda. Primjer jednog takvog skupa je regresijski skup podataka `grades` u kojem se predviđa prosjek ocjena studenta na studiju (1--5) na temelju dvije značajke: bodova na prijamnom ispitu (1--3000) i prosjeka ocjena u srednjoj školi. Prosjek ocjena na studiju izračunat je kao težinska suma ove dvije značajke uz dodani šum.\n",
    "\n",
    "Koristite sljedeći kôd kako biste generirali ovaj skup podataka."
   ]
  },
  {
   "cell_type": "code",
   "execution_count": null,
   "metadata": {
    "collapsed": true
   },
   "outputs": [],
   "source": [
    "n_data_points = 500\n",
    "np.random.seed(69)\n",
    "\n",
    "# Generiraj podatke o bodovima na prijamnom ispitu koristeći normalnu razdiobu i ograniči ih na interval [1, 3000].\n",
    "exam_score = np.random.normal(loc=1500.0, scale = 500.0, size = n_data_points) \n",
    "exam_score = np.round(exam_score)\n",
    "exam_score[exam_score > 3000] = 3000\n",
    "exam_score[exam_score < 0] = 0\n",
    "\n",
    "# Generiraj podatke o ocjenama iz srednje škole koristeći normalnu razdiobu i ograniči ih na interval [1, 5].\n",
    "grade_in_highschool = np.random.normal(loc=3, scale = 2.0, size = n_data_points)\n",
    "grade_in_highschool[grade_in_highschool > 5] = 5\n",
    "grade_in_highschool[grade_in_highschool < 1] = 1\n",
    "\n",
    "# Matrica dizajna.\n",
    "grades_X = np.array([exam_score,grade_in_highschool]).T\n",
    "\n",
    "# Završno, generiraj izlazne vrijednosti.\n",
    "rand_noise = np.random.normal(loc=0.0, scale = 0.5, size = n_data_points)\n",
    "exam_influence = 0.9\n",
    "grades_y = ((exam_score / 3000.0) * (exam_influence) + (grade_in_highschool / 5.0) \\\n",
    "            * (1.0 - exam_influence)) * 5.0 + rand_noise\n",
    "grades_y[grades_y < 1] = 1\n",
    "grades_y[grades_y > 5] = 5"
   ]
  },
  {
   "cell_type": "markdown",
   "metadata": {},
   "source": [
    "**a)**"
   ]
  },
  {
   "cell_type": "markdown",
   "metadata": {},
   "source": [
    "Iscrtajte ovisnost ciljne vrijednosti (y-os) o prvoj i o drugoj značajki (x-os). Iscrtajte dva odvojena grafa."
   ]
  },
  {
   "cell_type": "code",
   "execution_count": null,
   "metadata": {},
   "outputs": [],
   "source": [
    "plt.scatter(exam_score, grades_y)\n",
    "plt.xlabel('bodovi na prijemnom')\n",
    "plt.ylabel('prosjek na faksu')\n",
    "plt.show()\n",
    "plt.scatter(grade_in_highschool, grades_y, label='ocjene u sk')\n",
    "plt.xlabel('prosjek u srednjoj sk')\n",
    "plt.ylabel('prosjek na faksu')\n",
    "plt.show()"
   ]
  },
  {
   "cell_type": "markdown",
   "metadata": {},
   "source": [
    "**b)**"
   ]
  },
  {
   "cell_type": "markdown",
   "metadata": {},
   "source": [
    "Naučite model L2-regularizirane regresije ($\\lambda = 0.01$), na podacima `grades_X` i `grades_y`:"
   ]
  },
  {
   "cell_type": "code",
   "execution_count": null,
   "metadata": {},
   "outputs": [],
   "source": [
    "lam = 0.01\n",
    "ridge = Ridge(alpha=lam, fit_intercept=False)\n",
    "poly = PolynomialFeatures(degree=1)\n",
    "grades_X_trans = poly.fit_transform(grades_X)\n",
    "train = ridge.fit(grades_X_trans, grades_y)\n",
    "w = train.coef_\n",
    "print(w)\n"
   ]
  },
  {
   "cell_type": "markdown",
   "metadata": {},
   "source": [
    "Sada ponovite gornji eksperiment, ali prvo skalirajte podatke `grades_X` i `grades_y` i spremite ih u varijable `grades_X_fixed` i `grades_y_fixed`. Za tu svrhu, koristite [`StandardScaler`](http://scikit-learn.org/stable/modules/generated/sklearn.preprocessing.StandardScaler.html)."
   ]
  },
  {
   "cell_type": "code",
   "execution_count": null,
   "metadata": {},
   "outputs": [],
   "source": [
    "from sklearn.preprocessing import StandardScaler\n",
    "scalerx = StandardScaler()\n",
    "scalerx.fit(grades_X)\n",
    "grades_x_fixed = scalerx.transform(grades_X)\n",
    "\n",
    "grades_y = grades_y.reshape([-1,1])\n",
    "scalery = StandardScaler()\n",
    "scalery.fit(grades_y)\n",
    "grades_y_fixed = scalery.transform(grades_y)\n",
    "\n",
    "lam = 0.01\n",
    "ridge = Ridge(alpha=lam, fit_intercept=False)\n",
    "grades_x_fixed_trans = poly.fit_transform(grades_x_fixed)\n",
    "train = ridge.fit(grades_x_fixed_trans, grades_y_fixed)\n",
    "w=train.coef_[0]\n",
    "print(w)\n",
    "\n"
   ]
  },
  {
   "cell_type": "markdown",
   "metadata": {},
   "source": [
    "**Q:** Gledajući grafikone iz podzadatka (a), koja značajka bi trebala imati veću magnitudu, odnosno važnost pri predikciji prosjeka na studiju? Odgovaraju li težine Vašoj intuiciji? Objasnite.  "
   ]
  },
  {
   "cell_type": "markdown",
   "metadata": {},
   "source": [
    "### 8. Multikolinearnost i kondicija matrice"
   ]
  },
  {
   "cell_type": "markdown",
   "metadata": {},
   "source": [
    "**a)**"
   ]
  },
  {
   "cell_type": "markdown",
   "metadata": {},
   "source": [
    "Izradite skup podataka `grades_X_fixed_colinear` tako što ćete u skupu `grades_X_fixed` iz\n",
    "zadatka 7b duplicirati zadnji stupac (ocjenu iz srednje škole). Time smo efektivno uveli savršenu multikolinearnost."
   ]
  },
  {
   "cell_type": "code",
   "execution_count": null,
   "metadata": {},
   "outputs": [],
   "source": [
    "zadnji_red = grades_x_fixed[:,1:].reshape([-1,1])\n",
    "grades_X_fixed_colinear= np.hstack([grades_x_fixed, zadnji_red])\n",
    "print(grades_X_fixed_colinear)\n"
   ]
  },
  {
   "cell_type": "markdown",
   "metadata": {},
   "source": [
    "Ponovno, naučite na ovom skupu L2-regularizirani model regresije ($\\lambda = 0.01$)."
   ]
  },
  {
   "cell_type": "code",
   "execution_count": null,
   "metadata": {},
   "outputs": [],
   "source": [
    "lam = 0.01\n",
    "ridge = Ridge(alpha=lam, fit_intercept=False)\n",
    "poly = PolynomialFeatures(degree=1)\n",
    "grades_X_fixed_colinear_trans = poly.fit_transform(grades_X_fixed_colinear)\n",
    "w = ridge.fit(grades_X_fixed_colinear_trans, grades_y).coef_[0]\n",
    "print(w)"
   ]
  },
  {
   "cell_type": "markdown",
   "metadata": {},
   "source": [
    "**Q:** Usporedite iznose težina s onima koje ste dobili u zadatku *7b*. Što se dogodilo?"
   ]
  },
  {
   "cell_type": "markdown",
   "metadata": {},
   "source": [
    "**b)**"
   ]
  },
  {
   "cell_type": "markdown",
   "metadata": {},
   "source": [
    "Slučajno uzorkujte 50% elemenata iz skupa `grades_X_fixed_colinear` i naučite dva modela L2-regularizirane regresije, jedan s $\\lambda=0.01$, a jedan s $\\lambda=1000$. Ponovite ovaj pokus 10 puta (svaki put s drugim podskupom od 50% elemenata).  Za svaki model, ispišite dobiveni vektor težina u svih 10 ponavljanja te ispišite standardnu devijaciju vrijednosti svake od težina (ukupno šest standardnih devijacija, svaka dobivena nad 10 vrijednosti)."
   ]
  },
  {
   "cell_type": "code",
   "execution_count": null,
   "metadata": {},
   "outputs": [],
   "source": [
    "def izracunajW(x, y, lam):\n",
    "    poly = PolynomialFeatures(degree=1, include_bias=False)\n",
    "    x_trans = poly.fit_transform(x)\n",
    "    ridge = Ridge(alpha=lam, fit_intercept=False)\n",
    "    w = ridge.fit(x_trans, y).coef_[0]\n",
    "    return w\n",
    "\n",
    "w0_001 = []\n",
    "w0_1000 = []\n",
    "w1_001 = []\n",
    "w1_1000 = []\n",
    "w2_001 = []\n",
    "w2_1000 = []\n",
    "\n",
    "pom=[]\n",
    "for i in range(0, 10):\n",
    "    x_train, x_test, y_train, y_test = sklearn.model_selection.train_test_split(grades_X_fixed_colinear, grades_y, test_size = 0.5)\n",
    "    \n",
    "    w0_001.append((izracunajW(x_train, y_train, 0.01))[0])\n",
    "    w0_1000.append((izracunajW(x_train, y_train, 1000))[0])\n",
    "    \n",
    "    w1_001.append((izracunajW(x_train, y_train, 0.01))[1])\n",
    "    w1_1000.append((izracunajW(x_train, y_train, 1000))[1])\n",
    "    \n",
    "    w2_001.append((izracunajW(x_train, y_train, 0.01))[2])\n",
    "    w2_1000.append((izracunajW(x_train, y_train, 1000))[2])\n",
    "     \n",
    "    print('w_001',izracunajW(x_train, y_train, 0.01))\n",
    "    print('w_1000',izracunajW(x_train, y_train, 1000))\n",
    "    \n",
    "stdev_w0_001 = np.std(w0_001)\n",
    "print('stand dev za w0, lambda=0.01:', stdev_w0_001)\n",
    "stdev_w0_1000 = np.std(w0_1000)\n",
    "print('stand dev za w0, lambda=1000:', stdev_w0_1000)\n",
    "\n",
    "stdev_w1_001 = np.std(w1_001)\n",
    "print('stand dev za w1, lambda=0.01:', stdev_w1_001)\n",
    "stdev_w1_1000 = np.std(w1_1000)\n",
    "print('stand dev za w1, lambda=1000:', stdev_w1_1000)\n",
    "\n",
    "stdev_w2_001 = np.std(w2_001)\n",
    "print('stand dev za w2, lambda=0.01:', stdev_w2_001)\n",
    "stdev_w2_1000 = np.std(w2_1000)\n",
    "print('stand dev za w2, lambda=1000:', stdev_w2_1000)\n"
   ]
  },
  {
   "cell_type": "markdown",
   "metadata": {},
   "source": [
    "**Q:** Kako regularizacija utječe na stabilnost težina?  \n",
    "**Q:** Jesu li koeficijenti jednakih magnituda kao u prethodnom pokusu? Objasnite zašto."
   ]
  },
  {
   "cell_type": "markdown",
   "metadata": {},
   "source": [
    "**c)**"
   ]
  },
  {
   "cell_type": "markdown",
   "metadata": {},
   "source": [
    "Koristeći [`numpy.linalg.cond`](https://docs.scipy.org/doc/numpy-1.13.0/reference/generated/numpy.linalg.cond.html) izračunajte kondicijski broj matrice $\\mathbf{\\Phi}^\\intercal\\mathbf{\\Phi}+\\lambda\\mathbf{I}$, gdje je $\\mathbf{\\Phi}$ matrica dizajna (`grades_fixed_X_colinear`). Ponovite i za $\\lambda=0.01$ i za $\\lambda=10$."
   ]
  },
  {
   "cell_type": "code",
   "execution_count": null,
   "metadata": {},
   "outputs": [],
   "source": [
    "def kondicijskiBroj(x, lambda_):\n",
    "    matricaEye = eye(np.shape(x)[1])\n",
    "    matricaEye[0][0]=0\n",
    "    poly = PolynomialFeatures(degree=1, include_bias=False)\n",
    "    theta = poly.fit_transform(x)\n",
    "    first = dot(transpose(theta), theta)\n",
    "    return np.linalg.cond(dot(transpose(theta), theta)+ lambda_*matricaEye)\n",
    "\n",
    "lambde = [0.01, 10]\n",
    "\n",
    "for i in lambde:\n",
    "    print(kondicijskiBroj(grades_X_fixed_colinear, i))"
   ]
  },
  {
   "cell_type": "markdown",
   "metadata": {},
   "source": [
    "**Q:** Kako regularizacija utječe na kondicijski broj matrice $\\mathbf{\\Phi}^\\intercal\\mathbf{\\Phi}+\\lambda\\mathbf{I}$?  "
   ]
  },
  {
   "cell_type": "code",
   "execution_count": null,
   "metadata": {
    "collapsed": true
   },
   "outputs": [],
   "source": []
  },
  {
   "cell_type": "code",
   "execution_count": null,
   "metadata": {
    "collapsed": true
   },
   "outputs": [],
   "source": []
  }
 ],
 "metadata": {
  "anaconda-cloud": {},
  "kernelspec": {
   "display_name": "Python 3",
   "language": "python",
   "name": "python3"
  }
 },
 "nbformat": 4,
 "nbformat_minor": 1
}
